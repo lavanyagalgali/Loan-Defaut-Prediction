{
 "cells": [
  {
   "cell_type": "markdown",
   "id": "bb064b4e",
   "metadata": {},
   "source": [
    "### <center>**Loan Default Prediction- Logistic Regression**"
   ]
  },
  {
   "cell_type": "markdown",
   "id": "92ad3d8e",
   "metadata": {},
   "source": [
    "### **Problem Statement**\n",
    "\n",
    "MyHom is a finance company that lends housing loans at the best and most affordable interest rates to customers. In recent times, the company incurred heavy losses due to loan defaults. Most applicants failed to repay the loan as per the promissory note.\n",
    "\n",
    "\n",
    "In order to avoid such losses, the company has decided to build a system for identifying the loan defaulters automatically based on data. This will help the company to identify the potential applicants and ensure the smooth running of the entire process."
   ]
  },
  {
   "cell_type": "markdown",
   "id": "12e41532",
   "metadata": {},
   "source": [
    "### **Importing Libraries**"
   ]
  },
  {
   "cell_type": "code",
   "execution_count": 2,
   "id": "15abbb8b",
   "metadata": {},
   "outputs": [
    {
     "name": "stderr",
     "output_type": "stream",
     "text": [
      "WARNING: Ignoring invalid distribution -andas (c:\\users\\administrator\\anaconda3\\lib\\site-packages)\n",
      "ERROR: Invalid requirement: '#'\n",
      "WARNING: Ignoring invalid distribution -andas (c:\\users\\administrator\\anaconda3\\lib\\site-packages)\n",
      "WARNING: Ignoring invalid distribution -andas (c:\\users\\administrator\\anaconda3\\lib\\site-packages)\n",
      "WARNING: Ignoring invalid distribution -andas (c:\\users\\administrator\\anaconda3\\lib\\site-packages)\n",
      "WARNING: Ignoring invalid distribution -andas (c:\\users\\administrator\\anaconda3\\lib\\site-packages)\n",
      "ERROR: Invalid requirement: '#'\n",
      "WARNING: Ignoring invalid distribution -andas (c:\\users\\administrator\\anaconda3\\lib\\site-packages)\n",
      "WARNING: Ignoring invalid distribution -andas (c:\\users\\administrator\\anaconda3\\lib\\site-packages)\n",
      "WARNING: Ignoring invalid distribution -andas (c:\\users\\administrator\\anaconda3\\lib\\site-packages)\n"
     ]
    }
   ],
   "source": [
    "!pip install -q datascience                   # Package that is required by pandas profiling\n",
    "!pip install -q pandas-profiling              # Library to generate basic statistics about data"
   ]
  },
  {
   "cell_type": "code",
   "execution_count": 3,
   "id": "ab20385c",
   "metadata": {},
   "outputs": [
    {
     "name": "stderr",
     "output_type": "stream",
     "text": [
      "WARNING: Ignoring invalid distribution -andas (c:\\users\\administrator\\anaconda3\\lib\\site-packages)\n",
      "WARNING: Ignoring invalid distribution -andas (c:\\users\\administrator\\anaconda3\\lib\\site-packages)\n",
      "WARNING: Ignoring invalid distribution -andas (c:\\users\\administrator\\anaconda3\\lib\\site-packages)\n",
      "WARNING: Ignoring invalid distribution -andas (c:\\users\\administrator\\anaconda3\\lib\\site-packages)\n",
      "WARNING: Ignoring invalid distribution -andas (c:\\users\\administrator\\anaconda3\\lib\\site-packages)\n",
      "WARNING: Ignoring invalid distribution -andas (c:\\users\\administrator\\anaconda3\\lib\\site-packages)\n"
     ]
    }
   ],
   "source": [
    "!pip install -q --upgrade pandas-profiling"
   ]
  },
  {
   "cell_type": "code",
   "execution_count": 1,
   "id": "c7026024",
   "metadata": {},
   "outputs": [],
   "source": [
    "#-------------------------------------------------------------------------------------------------------------------------------\n",
    "import pandas as pd                                                 # Importing for panel data analysis\n",
    "from pandas_profiling import ProfileReport                          # Import Pandas Profiling (To generate Univariate Analysis) \n",
    "pd.set_option('display.max_columns', None)                          # Unfolding hidden features if the cardinality is high      \n",
    "pd.set_option('display.max_colwidth', None)                         # Unfolding the max feature width for better clearity      \n",
    "pd.set_option('display.max_rows', None)                             # Unfolding hidden data points if the cardinality is high\n",
    "pd.set_option('mode.chained_assignment', None)                      # Removing restriction over chained assignments operations\n",
    "pd.set_option('display.float_format', lambda x: '%.5f' % x)         # To suppress scientific notation over exponential values\n",
    "#-------------------------------------------------------------------------------------------------------------------------------\n",
    "import numpy as np                                                  # Importing package numpys (For Numerical Python)\n",
    "#-------------------------------------------------------------------------------------------------------------------------------\n",
    "import matplotlib.pyplot as plt                                     # Importing pyplot interface using matplotlib\n",
    "from matplotlib.pylab import rcParams                               # Backend used for rendering and GUI integration                                               \n",
    "import seaborn as sns                                               # Importin seaborm library for interactive visualization\n",
    "%matplotlib inline\n",
    "#-------------------------------------------------------------------------------------------------------------------------------\n",
    "from sklearn.metrics import accuracy_score                          # For calculating the accuracy for the model\n",
    "from sklearn.metrics import precision_score                         # For calculating the Precision of the model\n",
    "from sklearn.metrics import recall_score                            # For calculating the recall of the model\n",
    "from sklearn.metrics import precision_recall_curve                  # For precision and recall metric estimation\n",
    "from sklearn.metrics import confusion_matrix                        # For verifying model performance using confusion matrix\n",
    "from sklearn.metrics import f1_score                                # For Checking the F1-Score of our model  \n",
    "from sklearn.metrics import roc_curve                               # For Roc-Auc metric estimation\n",
    "#-------------------------------------------------------------------------------------------------------------------------------\n",
    "from sklearn.model_selection import train_test_split                # To split the data in training and testing part     \n",
    "from sklearn.linear_model import LogisticRegression                 # To create the Logistic Regression Model\n",
    "from sklearn.ensemble import RandomForestClassifier                 # To create the RandomForest Model\n",
    "from sklearn.model_selection import RandomizedSearchCV              # to create a RandomSearched hyper-tuned model\n",
    "from sklearn.feature_selection import RFE                           # For feature selection algorithm\n",
    "#-------------------------------------------------------------------------------------------------------------------------------\n",
    "import warnings                                                     # Importing warning to disable runtime warnings\n",
    "warnings.filterwarnings(\"ignore\")                                   # Warnings will appear only once"
   ]
  },
  {
   "cell_type": "markdown",
   "id": "e46c86ee",
   "metadata": {},
   "source": [
    "### **Data Acquisition and Description**\n",
    "\n",
    "Train and Test Data\n",
    "\n",
    "\n",
    "The train and test set contains the different attributes related to demographic and loan information of the applicants such as age, profession, no. of active loans, loan default in previous loans, and so on. The training set contains the target variable loan_default and you need to predict the target variable in the test set.\n",
    "\n",
    "\n",
    "| Column Name                            | Description                                               |\n",
    "| -------------|:-------------                                            :| \n",
    "|loan_id|Unique identifier of a loan                                |\n",
    "|age|Age of the Applicant                                       |\n",
    "|Education|Applicant Education|\n",
    "|proof_submitted|Type of proof submitted|\n",
    "|loan_amount|Loan Amount Disbursed|\n",
    "|asset_cost|The total asset value of the applicant|\n",
    "|no_of_loans|No. of the loans taken by the applicant|\n",
    "|no_of_curr_loans|No. of active loans held by the applicant|\n",
    "|last_delinq_none|The loan defaulted in at least one of the past loans|\n",
    "|loan_default (Target Variable)|0/1 indicating if an applicant will default the loan or not|\n",
    "|||\n",
    "\n",
    "\n",
    "\n",
    "\n",
    "\n",
    "\n",
    "\n",
    "\n",
    "\n"
   ]
  },
  {
   "cell_type": "code",
   "execution_count": 2,
   "id": "236cda67",
   "metadata": {},
   "outputs": [
    {
     "data": {
      "text/html": [
       "<div>\n",
       "<style scoped>\n",
       "    .dataframe tbody tr th:only-of-type {\n",
       "        vertical-align: middle;\n",
       "    }\n",
       "\n",
       "    .dataframe tbody tr th {\n",
       "        vertical-align: top;\n",
       "    }\n",
       "\n",
       "    .dataframe thead th {\n",
       "        text-align: right;\n",
       "    }\n",
       "</style>\n",
       "<table border=\"1\" class=\"dataframe\">\n",
       "  <thead>\n",
       "    <tr style=\"text-align: right;\">\n",
       "      <th></th>\n",
       "      <th>loan_id</th>\n",
       "      <th>age</th>\n",
       "      <th>education</th>\n",
       "      <th>proof_submitted</th>\n",
       "      <th>loan_amount</th>\n",
       "      <th>asset_cost</th>\n",
       "      <th>no_of_loans</th>\n",
       "      <th>no_of_curr_loans</th>\n",
       "      <th>last_delinq_none</th>\n",
       "      <th>loan_default</th>\n",
       "    </tr>\n",
       "  </thead>\n",
       "  <tbody>\n",
       "    <tr>\n",
       "      <th>0</th>\n",
       "      <td>1</td>\n",
       "      <td>27</td>\n",
       "      <td>1.00000</td>\n",
       "      <td>Aadhar</td>\n",
       "      <td>504264</td>\n",
       "      <td>820920</td>\n",
       "      <td>2</td>\n",
       "      <td>2</td>\n",
       "      <td>0</td>\n",
       "      <td>0</td>\n",
       "    </tr>\n",
       "    <tr>\n",
       "      <th>1</th>\n",
       "      <td>2</td>\n",
       "      <td>48</td>\n",
       "      <td>1.00000</td>\n",
       "      <td>Aadhar</td>\n",
       "      <td>728556</td>\n",
       "      <td>831444</td>\n",
       "      <td>6</td>\n",
       "      <td>2</td>\n",
       "      <td>0</td>\n",
       "      <td>0</td>\n",
       "    </tr>\n",
       "    <tr>\n",
       "      <th>2</th>\n",
       "      <td>3</td>\n",
       "      <td>30</td>\n",
       "      <td>2.00000</td>\n",
       "      <td>VoterID</td>\n",
       "      <td>642936</td>\n",
       "      <td>826092</td>\n",
       "      <td>0</td>\n",
       "      <td>0</td>\n",
       "      <td>0</td>\n",
       "      <td>1</td>\n",
       "    </tr>\n",
       "    <tr>\n",
       "      <th>3</th>\n",
       "      <td>4</td>\n",
       "      <td>28</td>\n",
       "      <td>1.00000</td>\n",
       "      <td>Aadhar</td>\n",
       "      <td>746556</td>\n",
       "      <td>930924</td>\n",
       "      <td>0</td>\n",
       "      <td>0</td>\n",
       "      <td>0</td>\n",
       "      <td>0</td>\n",
       "    </tr>\n",
       "    <tr>\n",
       "      <th>4</th>\n",
       "      <td>5</td>\n",
       "      <td>29</td>\n",
       "      <td>1.00000</td>\n",
       "      <td>Aadhar</td>\n",
       "      <td>1139880</td>\n",
       "      <td>1902000</td>\n",
       "      <td>0</td>\n",
       "      <td>0</td>\n",
       "      <td>0</td>\n",
       "      <td>0</td>\n",
       "    </tr>\n",
       "  </tbody>\n",
       "</table>\n",
       "</div>"
      ],
      "text/plain": [
       "   loan_id  age  education proof_submitted  loan_amount  asset_cost  \\\n",
       "0        1   27    1.00000          Aadhar       504264      820920   \n",
       "1        2   48    1.00000          Aadhar       728556      831444   \n",
       "2        3   30    2.00000         VoterID       642936      826092   \n",
       "3        4   28    1.00000          Aadhar       746556      930924   \n",
       "4        5   29    1.00000          Aadhar      1139880     1902000   \n",
       "\n",
       "   no_of_loans  no_of_curr_loans  last_delinq_none  loan_default  \n",
       "0            2                 2                 0             0  \n",
       "1            6                 2                 0             0  \n",
       "2            0                 0                 0             1  \n",
       "3            0                 0                 0             0  \n",
       "4            0                 0                 0             0  "
      ]
     },
     "execution_count": 2,
     "metadata": {},
     "output_type": "execute_result"
    }
   ],
   "source": [
    "# Extracting Train Data \n",
    "data_train = pd.read_csv('C://Users/Administrator/Desktop/Analytics Vidhya/Loan Prediction Hackathon/TrainData.csv')\n",
    "data_train.head()\n"
   ]
  },
  {
   "cell_type": "code",
   "execution_count": 3,
   "id": "2e1e38c0",
   "metadata": {},
   "outputs": [
    {
     "data": {
      "text/html": [
       "<div>\n",
       "<style scoped>\n",
       "    .dataframe tbody tr th:only-of-type {\n",
       "        vertical-align: middle;\n",
       "    }\n",
       "\n",
       "    .dataframe tbody tr th {\n",
       "        vertical-align: top;\n",
       "    }\n",
       "\n",
       "    .dataframe thead th {\n",
       "        text-align: right;\n",
       "    }\n",
       "</style>\n",
       "<table border=\"1\" class=\"dataframe\">\n",
       "  <thead>\n",
       "    <tr style=\"text-align: right;\">\n",
       "      <th></th>\n",
       "      <th>loan_id</th>\n",
       "      <th>age</th>\n",
       "      <th>education</th>\n",
       "      <th>proof_submitted</th>\n",
       "      <th>loan_amount</th>\n",
       "      <th>asset_cost</th>\n",
       "      <th>no_of_loans</th>\n",
       "      <th>no_of_curr_loans</th>\n",
       "      <th>last_delinq_none</th>\n",
       "    </tr>\n",
       "  </thead>\n",
       "  <tbody>\n",
       "    <tr>\n",
       "      <th>0</th>\n",
       "      <td>7001</td>\n",
       "      <td>29</td>\n",
       "      <td>1.00000</td>\n",
       "      <td>Aadhar</td>\n",
       "      <td>636936</td>\n",
       "      <td>768240</td>\n",
       "      <td>2</td>\n",
       "      <td>2</td>\n",
       "      <td>0</td>\n",
       "    </tr>\n",
       "    <tr>\n",
       "      <th>1</th>\n",
       "      <td>7002</td>\n",
       "      <td>28</td>\n",
       "      <td>1.00000</td>\n",
       "      <td>Aadhar</td>\n",
       "      <td>548988</td>\n",
       "      <td>693060</td>\n",
       "      <td>3</td>\n",
       "      <td>3</td>\n",
       "      <td>0</td>\n",
       "    </tr>\n",
       "    <tr>\n",
       "      <th>2</th>\n",
       "      <td>7003</td>\n",
       "      <td>28</td>\n",
       "      <td>1.00000</td>\n",
       "      <td>Aadhar</td>\n",
       "      <td>651756</td>\n",
       "      <td>936600</td>\n",
       "      <td>0</td>\n",
       "      <td>0</td>\n",
       "      <td>0</td>\n",
       "    </tr>\n",
       "    <tr>\n",
       "      <th>3</th>\n",
       "      <td>7004</td>\n",
       "      <td>45</td>\n",
       "      <td>2.00000</td>\n",
       "      <td>Aadhar</td>\n",
       "      <td>614676</td>\n",
       "      <td>744840</td>\n",
       "      <td>4</td>\n",
       "      <td>3</td>\n",
       "      <td>0</td>\n",
       "    </tr>\n",
       "    <tr>\n",
       "      <th>4</th>\n",
       "      <td>7005</td>\n",
       "      <td>48</td>\n",
       "      <td>1.00000</td>\n",
       "      <td>Aadhar</td>\n",
       "      <td>625236</td>\n",
       "      <td>839400</td>\n",
       "      <td>0</td>\n",
       "      <td>0</td>\n",
       "      <td>0</td>\n",
       "    </tr>\n",
       "  </tbody>\n",
       "</table>\n",
       "</div>"
      ],
      "text/plain": [
       "   loan_id  age  education proof_submitted  loan_amount  asset_cost  \\\n",
       "0     7001   29    1.00000          Aadhar       636936      768240   \n",
       "1     7002   28    1.00000          Aadhar       548988      693060   \n",
       "2     7003   28    1.00000          Aadhar       651756      936600   \n",
       "3     7004   45    2.00000          Aadhar       614676      744840   \n",
       "4     7005   48    1.00000          Aadhar       625236      839400   \n",
       "\n",
       "   no_of_loans  no_of_curr_loans  last_delinq_none  \n",
       "0            2                 2                 0  \n",
       "1            3                 3                 0  \n",
       "2            0                 0                 0  \n",
       "3            4                 3                 0  \n",
       "4            0                 0                 0  "
      ]
     },
     "execution_count": 3,
     "metadata": {},
     "output_type": "execute_result"
    }
   ],
   "source": [
    "# Extracting Test Data \n",
    "data_test = pd.read_csv('C://Users/Administrator/Desktop/Analytics Vidhya/Loan Prediction Hackathon/TestData.csv')\n",
    "data_test.head()"
   ]
  },
  {
   "cell_type": "code",
   "execution_count": 4,
   "id": "f4682f7c",
   "metadata": {},
   "outputs": [
    {
     "data": {
      "text/plain": [
       "(3000, 2)"
      ]
     },
     "execution_count": 4,
     "metadata": {},
     "output_type": "execute_result"
    }
   ],
   "source": [
    "data_sample = pd.read_csv('C://Users/Administrator/Desktop/Analytics Vidhya/Loan Prediction Hackathon/Sample.csv')\n",
    "data_sample.shape"
   ]
  },
  {
   "cell_type": "code",
   "execution_count": 5,
   "id": "ce959efc",
   "metadata": {},
   "outputs": [
    {
     "name": "stdout",
     "output_type": "stream",
     "text": [
      "Shape of Train data is :  (7000, 10)\n",
      "Shape of Test data is :  (3000, 9)\n"
     ]
    }
   ],
   "source": [
    "print('Shape of Train data is : ', data_train.shape)\n",
    "print('Shape of Test data is : ', data_test.shape)"
   ]
  },
  {
   "cell_type": "code",
   "execution_count": 6,
   "id": "a98e6739",
   "metadata": {},
   "outputs": [
    {
     "name": "stdout",
     "output_type": "stream",
     "text": [
      "<class 'pandas.core.frame.DataFrame'>\n",
      "RangeIndex: 7000 entries, 0 to 6999\n",
      "Data columns (total 10 columns):\n",
      " #   Column            Non-Null Count  Dtype  \n",
      "---  ------            --------------  -----  \n",
      " 0   loan_id           7000 non-null   int64  \n",
      " 1   age               7000 non-null   int64  \n",
      " 2   education         6755 non-null   float64\n",
      " 3   proof_submitted   7000 non-null   object \n",
      " 4   loan_amount       7000 non-null   int64  \n",
      " 5   asset_cost        7000 non-null   int64  \n",
      " 6   no_of_loans       7000 non-null   int64  \n",
      " 7   no_of_curr_loans  7000 non-null   int64  \n",
      " 8   last_delinq_none  7000 non-null   int64  \n",
      " 9   loan_default      7000 non-null   int64  \n",
      "dtypes: float64(1), int64(8), object(1)\n",
      "memory usage: 547.0+ KB\n"
     ]
    }
   ],
   "source": [
    "data_train.info()    # Checking train data info"
   ]
  },
  {
   "cell_type": "code",
   "execution_count": 7,
   "id": "677aceb5",
   "metadata": {},
   "outputs": [
    {
     "data": {
      "text/html": [
       "<div>\n",
       "<style scoped>\n",
       "    .dataframe tbody tr th:only-of-type {\n",
       "        vertical-align: middle;\n",
       "    }\n",
       "\n",
       "    .dataframe tbody tr th {\n",
       "        vertical-align: top;\n",
       "    }\n",
       "\n",
       "    .dataframe thead th {\n",
       "        text-align: right;\n",
       "    }\n",
       "</style>\n",
       "<table border=\"1\" class=\"dataframe\">\n",
       "  <thead>\n",
       "    <tr style=\"text-align: right;\">\n",
       "      <th></th>\n",
       "      <th>loan_id</th>\n",
       "      <th>age</th>\n",
       "      <th>education</th>\n",
       "      <th>loan_amount</th>\n",
       "      <th>asset_cost</th>\n",
       "      <th>no_of_loans</th>\n",
       "      <th>no_of_curr_loans</th>\n",
       "      <th>last_delinq_none</th>\n",
       "      <th>loan_default</th>\n",
       "    </tr>\n",
       "  </thead>\n",
       "  <tbody>\n",
       "    <tr>\n",
       "      <th>count</th>\n",
       "      <td>7000.00000</td>\n",
       "      <td>7000.00000</td>\n",
       "      <td>6755.00000</td>\n",
       "      <td>7000.00000</td>\n",
       "      <td>7000.00000</td>\n",
       "      <td>7000.00000</td>\n",
       "      <td>7000.00000</td>\n",
       "      <td>7000.00000</td>\n",
       "      <td>7000.00000</td>\n",
       "    </tr>\n",
       "    <tr>\n",
       "      <th>mean</th>\n",
       "      <td>3500.50000</td>\n",
       "      <td>36.09657</td>\n",
       "      <td>1.56195</td>\n",
       "      <td>663355.17257</td>\n",
       "      <td>916299.75086</td>\n",
       "      <td>2.85329</td>\n",
       "      <td>1.37114</td>\n",
       "      <td>0.01329</td>\n",
       "      <td>0.40000</td>\n",
       "    </tr>\n",
       "    <tr>\n",
       "      <th>std</th>\n",
       "      <td>2020.87027</td>\n",
       "      <td>7.58770</td>\n",
       "      <td>0.49618</td>\n",
       "      <td>149812.77367</td>\n",
       "      <td>214492.24457</td>\n",
       "      <td>5.47193</td>\n",
       "      <td>2.18928</td>\n",
       "      <td>0.11450</td>\n",
       "      <td>0.48993</td>\n",
       "    </tr>\n",
       "    <tr>\n",
       "      <th>min</th>\n",
       "      <td>1.00000</td>\n",
       "      <td>21.00000</td>\n",
       "      <td>1.00000</td>\n",
       "      <td>167880.00000</td>\n",
       "      <td>473352.00000</td>\n",
       "      <td>0.00000</td>\n",
       "      <td>0.00000</td>\n",
       "      <td>0.00000</td>\n",
       "      <td>0.00000</td>\n",
       "    </tr>\n",
       "    <tr>\n",
       "      <th>25%</th>\n",
       "      <td>1750.75000</td>\n",
       "      <td>29.00000</td>\n",
       "      <td>1.00000</td>\n",
       "      <td>577788.00000</td>\n",
       "      <td>797901.00000</td>\n",
       "      <td>0.00000</td>\n",
       "      <td>0.00000</td>\n",
       "      <td>0.00000</td>\n",
       "      <td>0.00000</td>\n",
       "    </tr>\n",
       "    <tr>\n",
       "      <th>50%</th>\n",
       "      <td>3500.50000</td>\n",
       "      <td>36.00000</td>\n",
       "      <td>2.00000</td>\n",
       "      <td>657108.00000</td>\n",
       "      <td>858426.00000</td>\n",
       "      <td>0.00000</td>\n",
       "      <td>0.00000</td>\n",
       "      <td>0.00000</td>\n",
       "      <td>0.00000</td>\n",
       "    </tr>\n",
       "    <tr>\n",
       "      <th>75%</th>\n",
       "      <td>5250.25000</td>\n",
       "      <td>43.00000</td>\n",
       "      <td>2.00000</td>\n",
       "      <td>737364.00000</td>\n",
       "      <td>957675.00000</td>\n",
       "      <td>3.00000</td>\n",
       "      <td>2.00000</td>\n",
       "      <td>0.00000</td>\n",
       "      <td>1.00000</td>\n",
       "    </tr>\n",
       "    <tr>\n",
       "      <th>max</th>\n",
       "      <td>7000.00000</td>\n",
       "      <td>50.00000</td>\n",
       "      <td>2.00000</td>\n",
       "      <td>1781376.00000</td>\n",
       "      <td>2419200.00000</td>\n",
       "      <td>109.00000</td>\n",
       "      <td>33.00000</td>\n",
       "      <td>1.00000</td>\n",
       "      <td>1.00000</td>\n",
       "    </tr>\n",
       "  </tbody>\n",
       "</table>\n",
       "</div>"
      ],
      "text/plain": [
       "         loan_id        age  education   loan_amount    asset_cost  \\\n",
       "count 7000.00000 7000.00000 6755.00000    7000.00000    7000.00000   \n",
       "mean  3500.50000   36.09657    1.56195  663355.17257  916299.75086   \n",
       "std   2020.87027    7.58770    0.49618  149812.77367  214492.24457   \n",
       "min      1.00000   21.00000    1.00000  167880.00000  473352.00000   \n",
       "25%   1750.75000   29.00000    1.00000  577788.00000  797901.00000   \n",
       "50%   3500.50000   36.00000    2.00000  657108.00000  858426.00000   \n",
       "75%   5250.25000   43.00000    2.00000  737364.00000  957675.00000   \n",
       "max   7000.00000   50.00000    2.00000 1781376.00000 2419200.00000   \n",
       "\n",
       "       no_of_loans  no_of_curr_loans  last_delinq_none  loan_default  \n",
       "count   7000.00000        7000.00000        7000.00000    7000.00000  \n",
       "mean       2.85329           1.37114           0.01329       0.40000  \n",
       "std        5.47193           2.18928           0.11450       0.48993  \n",
       "min        0.00000           0.00000           0.00000       0.00000  \n",
       "25%        0.00000           0.00000           0.00000       0.00000  \n",
       "50%        0.00000           0.00000           0.00000       0.00000  \n",
       "75%        3.00000           2.00000           0.00000       1.00000  \n",
       "max      109.00000          33.00000           1.00000       1.00000  "
      ]
     },
     "execution_count": 7,
     "metadata": {},
     "output_type": "execute_result"
    }
   ],
   "source": [
    "data_train.describe()  # Checking train data description "
   ]
  },
  {
   "cell_type": "code",
   "execution_count": 8,
   "id": "1d6c8efc",
   "metadata": {},
   "outputs": [
    {
     "data": {
      "text/plain": [
       "Index(['loan_id', 'age', 'education', 'proof_submitted', 'loan_amount',\n",
       "       'asset_cost', 'no_of_loans', 'no_of_curr_loans', 'last_delinq_none',\n",
       "       'loan_default'],\n",
       "      dtype='object')"
      ]
     },
     "execution_count": 8,
     "metadata": {},
     "output_type": "execute_result"
    }
   ],
   "source": [
    "data_train.columns"
   ]
  },
  {
   "cell_type": "code",
   "execution_count": 9,
   "id": "d43d2208",
   "metadata": {},
   "outputs": [
    {
     "data": {
      "text/plain": [
       "Index(['loan_id', 'age', 'education', 'proof_submitted', 'loan_amount',\n",
       "       'asset_cost', 'no_of_loans', 'no_of_curr_loans', 'last_delinq_none'],\n",
       "      dtype='object')"
      ]
     },
     "execution_count": 9,
     "metadata": {},
     "output_type": "execute_result"
    }
   ],
   "source": [
    "data_test.columns"
   ]
  },
  {
   "cell_type": "code",
   "execution_count": 10,
   "id": "bb3c0194",
   "metadata": {},
   "outputs": [
    {
     "data": {
      "text/plain": [
       "loan_id               0\n",
       "age                   0\n",
       "education           245\n",
       "proof_submitted       0\n",
       "loan_amount           0\n",
       "asset_cost            0\n",
       "no_of_loans           0\n",
       "no_of_curr_loans      0\n",
       "last_delinq_none      0\n",
       "loan_default          0\n",
       "dtype: int64"
      ]
     },
     "execution_count": 10,
     "metadata": {},
     "output_type": "execute_result"
    }
   ],
   "source": [
    "data_train.isnull().sum() # check missing values in train data"
   ]
  },
  {
   "cell_type": "code",
   "execution_count": 11,
   "id": "70d9f1b3",
   "metadata": {},
   "outputs": [
    {
     "data": {
      "text/plain": [
       "Aadhar      5931\n",
       "VoterID      707\n",
       "PAN          235\n",
       "Driving      114\n",
       "Passport      13\n",
       "Name: proof_submitted, dtype: int64"
      ]
     },
     "execution_count": 11,
     "metadata": {},
     "output_type": "execute_result"
    }
   ],
   "source": [
    "data_train['proof_submitted'].value_counts()"
   ]
  },
  {
   "cell_type": "code",
   "execution_count": 12,
   "id": "fa6a27fb",
   "metadata": {},
   "outputs": [],
   "source": [
    "median_edu = data_train['education'].median()"
   ]
  },
  {
   "cell_type": "code",
   "execution_count": 13,
   "id": "4d64fcd8",
   "metadata": {},
   "outputs": [],
   "source": [
    "data_train['education'].fillna(median_edu , inplace = True)   # Filling missing value in Education column with median "
   ]
  },
  {
   "cell_type": "code",
   "execution_count": 14,
   "id": "4cf2b8e9",
   "metadata": {},
   "outputs": [],
   "source": [
    "# Converting data type from float to int \n",
    "data_train['education'] = data_train['education'].astype('int')"
   ]
  },
  {
   "cell_type": "code",
   "execution_count": 15,
   "id": "020a9606",
   "metadata": {},
   "outputs": [
    {
     "name": "stdout",
     "output_type": "stream",
     "text": [
      "<class 'pandas.core.frame.DataFrame'>\n",
      "RangeIndex: 7000 entries, 0 to 6999\n",
      "Data columns (total 10 columns):\n",
      " #   Column            Non-Null Count  Dtype \n",
      "---  ------            --------------  ----- \n",
      " 0   loan_id           7000 non-null   int64 \n",
      " 1   age               7000 non-null   int64 \n",
      " 2   education         7000 non-null   int32 \n",
      " 3   proof_submitted   7000 non-null   object\n",
      " 4   loan_amount       7000 non-null   int64 \n",
      " 5   asset_cost        7000 non-null   int64 \n",
      " 6   no_of_loans       7000 non-null   int64 \n",
      " 7   no_of_curr_loans  7000 non-null   int64 \n",
      " 8   last_delinq_none  7000 non-null   int64 \n",
      " 9   loan_default      7000 non-null   int64 \n",
      "dtypes: int32(1), int64(8), object(1)\n",
      "memory usage: 519.7+ KB\n"
     ]
    }
   ],
   "source": [
    "data_train.info()"
   ]
  },
  {
   "cell_type": "code",
   "execution_count": 16,
   "id": "a0a2e26c",
   "metadata": {},
   "outputs": [
    {
     "data": {
      "text/plain": [
       "loan_id              0\n",
       "age                  0\n",
       "education           92\n",
       "proof_submitted      0\n",
       "loan_amount          0\n",
       "asset_cost           0\n",
       "no_of_loans          0\n",
       "no_of_curr_loans     0\n",
       "last_delinq_none     0\n",
       "dtype: int64"
      ]
     },
     "execution_count": 16,
     "metadata": {},
     "output_type": "execute_result"
    }
   ],
   "source": [
    "data_test.isnull().sum()    # check missing values in test data"
   ]
  },
  {
   "cell_type": "code",
   "execution_count": 30,
   "id": "1e224e85",
   "metadata": {},
   "outputs": [
    {
     "data": {
      "text/html": [
       "<div>\n",
       "<style scoped>\n",
       "    .dataframe tbody tr th:only-of-type {\n",
       "        vertical-align: middle;\n",
       "    }\n",
       "\n",
       "    .dataframe tbody tr th {\n",
       "        vertical-align: top;\n",
       "    }\n",
       "\n",
       "    .dataframe thead th {\n",
       "        text-align: right;\n",
       "    }\n",
       "</style>\n",
       "<table border=\"1\" class=\"dataframe\">\n",
       "  <thead>\n",
       "    <tr style=\"text-align: right;\">\n",
       "      <th></th>\n",
       "      <th>loan_id</th>\n",
       "      <th>age</th>\n",
       "      <th>education</th>\n",
       "      <th>proof_submitted</th>\n",
       "      <th>loan_amount</th>\n",
       "      <th>asset_cost</th>\n",
       "      <th>no_of_loans</th>\n",
       "      <th>no_of_curr_loans</th>\n",
       "      <th>last_delinq_none</th>\n",
       "    </tr>\n",
       "  </thead>\n",
       "  <tbody>\n",
       "    <tr>\n",
       "      <th>0</th>\n",
       "      <td>7001</td>\n",
       "      <td>29</td>\n",
       "      <td>1.00000</td>\n",
       "      <td>Aadhar</td>\n",
       "      <td>636936</td>\n",
       "      <td>768240</td>\n",
       "      <td>2</td>\n",
       "      <td>2</td>\n",
       "      <td>0</td>\n",
       "    </tr>\n",
       "    <tr>\n",
       "      <th>1</th>\n",
       "      <td>7002</td>\n",
       "      <td>28</td>\n",
       "      <td>1.00000</td>\n",
       "      <td>Aadhar</td>\n",
       "      <td>548988</td>\n",
       "      <td>693060</td>\n",
       "      <td>3</td>\n",
       "      <td>3</td>\n",
       "      <td>0</td>\n",
       "    </tr>\n",
       "    <tr>\n",
       "      <th>2</th>\n",
       "      <td>7003</td>\n",
       "      <td>28</td>\n",
       "      <td>1.00000</td>\n",
       "      <td>Aadhar</td>\n",
       "      <td>651756</td>\n",
       "      <td>936600</td>\n",
       "      <td>0</td>\n",
       "      <td>0</td>\n",
       "      <td>0</td>\n",
       "    </tr>\n",
       "    <tr>\n",
       "      <th>3</th>\n",
       "      <td>7004</td>\n",
       "      <td>45</td>\n",
       "      <td>2.00000</td>\n",
       "      <td>Aadhar</td>\n",
       "      <td>614676</td>\n",
       "      <td>744840</td>\n",
       "      <td>4</td>\n",
       "      <td>3</td>\n",
       "      <td>0</td>\n",
       "    </tr>\n",
       "    <tr>\n",
       "      <th>4</th>\n",
       "      <td>7005</td>\n",
       "      <td>48</td>\n",
       "      <td>1.00000</td>\n",
       "      <td>Aadhar</td>\n",
       "      <td>625236</td>\n",
       "      <td>839400</td>\n",
       "      <td>0</td>\n",
       "      <td>0</td>\n",
       "      <td>0</td>\n",
       "    </tr>\n",
       "  </tbody>\n",
       "</table>\n",
       "</div>"
      ],
      "text/plain": [
       "   loan_id  age  education proof_submitted  loan_amount  asset_cost  \\\n",
       "0     7001   29    1.00000          Aadhar       636936      768240   \n",
       "1     7002   28    1.00000          Aadhar       548988      693060   \n",
       "2     7003   28    1.00000          Aadhar       651756      936600   \n",
       "3     7004   45    2.00000          Aadhar       614676      744840   \n",
       "4     7005   48    1.00000          Aadhar       625236      839400   \n",
       "\n",
       "   no_of_loans  no_of_curr_loans  last_delinq_none  \n",
       "0            2                 2                 0  \n",
       "1            3                 3                 0  \n",
       "2            0                 0                 0  \n",
       "3            4                 3                 0  \n",
       "4            0                 0                 0  "
      ]
     },
     "execution_count": 30,
     "metadata": {},
     "output_type": "execute_result"
    }
   ],
   "source": [
    "test_data = data_test.copy()\n",
    "test_data.head()"
   ]
  },
  {
   "cell_type": "code",
   "execution_count": 31,
   "id": "f1ec0beb",
   "metadata": {},
   "outputs": [],
   "source": [
    "# Filling missing value in Education column with median \n",
    "test_data['education'].fillna(test_data['education'].median(skipna=True), inplace=True)"
   ]
  },
  {
   "cell_type": "code",
   "execution_count": 32,
   "id": "ac611f65",
   "metadata": {},
   "outputs": [],
   "source": [
    "# Converting data type from float to int \n",
    "test_data['education'] = test_data['education'].astype('int')"
   ]
  },
  {
   "cell_type": "code",
   "execution_count": 33,
   "id": "3d2f32cf",
   "metadata": {},
   "outputs": [
    {
     "name": "stdout",
     "output_type": "stream",
     "text": [
      "<class 'pandas.core.frame.DataFrame'>\n",
      "RangeIndex: 3000 entries, 0 to 2999\n",
      "Data columns (total 9 columns):\n",
      " #   Column            Non-Null Count  Dtype \n",
      "---  ------            --------------  ----- \n",
      " 0   loan_id           3000 non-null   int64 \n",
      " 1   age               3000 non-null   int64 \n",
      " 2   education         3000 non-null   int32 \n",
      " 3   proof_submitted   3000 non-null   object\n",
      " 4   loan_amount       3000 non-null   int64 \n",
      " 5   asset_cost        3000 non-null   int64 \n",
      " 6   no_of_loans       3000 non-null   int64 \n",
      " 7   no_of_curr_loans  3000 non-null   int64 \n",
      " 8   last_delinq_none  3000 non-null   int64 \n",
      "dtypes: int32(1), int64(7), object(1)\n",
      "memory usage: 199.3+ KB\n"
     ]
    }
   ],
   "source": [
    "test_data.info()"
   ]
  },
  {
   "cell_type": "code",
   "execution_count": 34,
   "id": "b715a471",
   "metadata": {},
   "outputs": [],
   "source": [
    "# Encoding Categorical Features in test data \n",
    "testing = pd.get_dummies(test_data)\n"
   ]
  },
  {
   "cell_type": "code",
   "execution_count": 36,
   "id": "06ebac3e",
   "metadata": {},
   "outputs": [
    {
     "data": {
      "text/html": [
       "<div>\n",
       "<style scoped>\n",
       "    .dataframe tbody tr th:only-of-type {\n",
       "        vertical-align: middle;\n",
       "    }\n",
       "\n",
       "    .dataframe tbody tr th {\n",
       "        vertical-align: top;\n",
       "    }\n",
       "\n",
       "    .dataframe thead th {\n",
       "        text-align: right;\n",
       "    }\n",
       "</style>\n",
       "<table border=\"1\" class=\"dataframe\">\n",
       "  <thead>\n",
       "    <tr style=\"text-align: right;\">\n",
       "      <th></th>\n",
       "      <th>loan_id</th>\n",
       "      <th>age</th>\n",
       "      <th>education</th>\n",
       "      <th>loan_amount</th>\n",
       "      <th>asset_cost</th>\n",
       "      <th>no_of_loans</th>\n",
       "      <th>no_of_curr_loans</th>\n",
       "      <th>last_delinq_none</th>\n",
       "      <th>proof_submitted_Aadhar</th>\n",
       "      <th>proof_submitted_Driving</th>\n",
       "      <th>proof_submitted_PAN</th>\n",
       "      <th>proof_submitted_Passport</th>\n",
       "      <th>proof_submitted_VoterID</th>\n",
       "    </tr>\n",
       "  </thead>\n",
       "  <tbody>\n",
       "    <tr>\n",
       "      <th>0</th>\n",
       "      <td>7001</td>\n",
       "      <td>29</td>\n",
       "      <td>1</td>\n",
       "      <td>636936</td>\n",
       "      <td>768240</td>\n",
       "      <td>2</td>\n",
       "      <td>2</td>\n",
       "      <td>0</td>\n",
       "      <td>1</td>\n",
       "      <td>0</td>\n",
       "      <td>0</td>\n",
       "      <td>0</td>\n",
       "      <td>0</td>\n",
       "    </tr>\n",
       "    <tr>\n",
       "      <th>1</th>\n",
       "      <td>7002</td>\n",
       "      <td>28</td>\n",
       "      <td>1</td>\n",
       "      <td>548988</td>\n",
       "      <td>693060</td>\n",
       "      <td>3</td>\n",
       "      <td>3</td>\n",
       "      <td>0</td>\n",
       "      <td>1</td>\n",
       "      <td>0</td>\n",
       "      <td>0</td>\n",
       "      <td>0</td>\n",
       "      <td>0</td>\n",
       "    </tr>\n",
       "    <tr>\n",
       "      <th>2</th>\n",
       "      <td>7003</td>\n",
       "      <td>28</td>\n",
       "      <td>1</td>\n",
       "      <td>651756</td>\n",
       "      <td>936600</td>\n",
       "      <td>0</td>\n",
       "      <td>0</td>\n",
       "      <td>0</td>\n",
       "      <td>1</td>\n",
       "      <td>0</td>\n",
       "      <td>0</td>\n",
       "      <td>0</td>\n",
       "      <td>0</td>\n",
       "    </tr>\n",
       "    <tr>\n",
       "      <th>3</th>\n",
       "      <td>7004</td>\n",
       "      <td>45</td>\n",
       "      <td>2</td>\n",
       "      <td>614676</td>\n",
       "      <td>744840</td>\n",
       "      <td>4</td>\n",
       "      <td>3</td>\n",
       "      <td>0</td>\n",
       "      <td>1</td>\n",
       "      <td>0</td>\n",
       "      <td>0</td>\n",
       "      <td>0</td>\n",
       "      <td>0</td>\n",
       "    </tr>\n",
       "    <tr>\n",
       "      <th>4</th>\n",
       "      <td>7005</td>\n",
       "      <td>48</td>\n",
       "      <td>1</td>\n",
       "      <td>625236</td>\n",
       "      <td>839400</td>\n",
       "      <td>0</td>\n",
       "      <td>0</td>\n",
       "      <td>0</td>\n",
       "      <td>1</td>\n",
       "      <td>0</td>\n",
       "      <td>0</td>\n",
       "      <td>0</td>\n",
       "      <td>0</td>\n",
       "    </tr>\n",
       "  </tbody>\n",
       "</table>\n",
       "</div>"
      ],
      "text/plain": [
       "   loan_id  age  education  loan_amount  asset_cost  no_of_loans  \\\n",
       "0     7001   29          1       636936      768240            2   \n",
       "1     7002   28          1       548988      693060            3   \n",
       "2     7003   28          1       651756      936600            0   \n",
       "3     7004   45          2       614676      744840            4   \n",
       "4     7005   48          1       625236      839400            0   \n",
       "\n",
       "   no_of_curr_loans  last_delinq_none  proof_submitted_Aadhar  \\\n",
       "0                 2                 0                       1   \n",
       "1                 3                 0                       1   \n",
       "2                 0                 0                       1   \n",
       "3                 3                 0                       1   \n",
       "4                 0                 0                       1   \n",
       "\n",
       "   proof_submitted_Driving  proof_submitted_PAN  proof_submitted_Passport  \\\n",
       "0                        0                    0                         0   \n",
       "1                        0                    0                         0   \n",
       "2                        0                    0                         0   \n",
       "3                        0                    0                         0   \n",
       "4                        0                    0                         0   \n",
       "\n",
       "   proof_submitted_VoterID  \n",
       "0                        0  \n",
       "1                        0  \n",
       "2                        0  \n",
       "3                        0  \n",
       "4                        0  "
      ]
     },
     "execution_count": 36,
     "metadata": {},
     "output_type": "execute_result"
    }
   ],
   "source": [
    "testing.head()"
   ]
  },
  {
   "cell_type": "code",
   "execution_count": 37,
   "id": "192da28e",
   "metadata": {},
   "outputs": [
    {
     "data": {
      "text/html": [
       "<div>\n",
       "<style scoped>\n",
       "    .dataframe tbody tr th:only-of-type {\n",
       "        vertical-align: middle;\n",
       "    }\n",
       "\n",
       "    .dataframe tbody tr th {\n",
       "        vertical-align: top;\n",
       "    }\n",
       "\n",
       "    .dataframe thead th {\n",
       "        text-align: right;\n",
       "    }\n",
       "</style>\n",
       "<table border=\"1\" class=\"dataframe\">\n",
       "  <thead>\n",
       "    <tr style=\"text-align: right;\">\n",
       "      <th></th>\n",
       "      <th>loan_id</th>\n",
       "      <th>age</th>\n",
       "      <th>education</th>\n",
       "      <th>loan_amount</th>\n",
       "      <th>asset_cost</th>\n",
       "      <th>no_of_loans</th>\n",
       "      <th>no_of_curr_loans</th>\n",
       "      <th>last_delinq_none</th>\n",
       "      <th>proof_submitted_Aadhar</th>\n",
       "      <th>proof_submitted_Driving</th>\n",
       "      <th>proof_submitted_PAN</th>\n",
       "      <th>proof_submitted_Passport</th>\n",
       "      <th>proof_submitted_VoterID</th>\n",
       "    </tr>\n",
       "  </thead>\n",
       "  <tbody>\n",
       "    <tr>\n",
       "      <th>0</th>\n",
       "      <td>7001</td>\n",
       "      <td>29</td>\n",
       "      <td>1</td>\n",
       "      <td>636936</td>\n",
       "      <td>768240</td>\n",
       "      <td>2</td>\n",
       "      <td>2</td>\n",
       "      <td>0</td>\n",
       "      <td>1</td>\n",
       "      <td>0</td>\n",
       "      <td>0</td>\n",
       "      <td>0</td>\n",
       "      <td>0</td>\n",
       "    </tr>\n",
       "    <tr>\n",
       "      <th>1</th>\n",
       "      <td>7002</td>\n",
       "      <td>28</td>\n",
       "      <td>1</td>\n",
       "      <td>548988</td>\n",
       "      <td>693060</td>\n",
       "      <td>3</td>\n",
       "      <td>3</td>\n",
       "      <td>0</td>\n",
       "      <td>1</td>\n",
       "      <td>0</td>\n",
       "      <td>0</td>\n",
       "      <td>0</td>\n",
       "      <td>0</td>\n",
       "    </tr>\n",
       "    <tr>\n",
       "      <th>2</th>\n",
       "      <td>7003</td>\n",
       "      <td>28</td>\n",
       "      <td>1</td>\n",
       "      <td>651756</td>\n",
       "      <td>936600</td>\n",
       "      <td>0</td>\n",
       "      <td>0</td>\n",
       "      <td>0</td>\n",
       "      <td>1</td>\n",
       "      <td>0</td>\n",
       "      <td>0</td>\n",
       "      <td>0</td>\n",
       "      <td>0</td>\n",
       "    </tr>\n",
       "    <tr>\n",
       "      <th>3</th>\n",
       "      <td>7004</td>\n",
       "      <td>45</td>\n",
       "      <td>2</td>\n",
       "      <td>614676</td>\n",
       "      <td>744840</td>\n",
       "      <td>4</td>\n",
       "      <td>3</td>\n",
       "      <td>0</td>\n",
       "      <td>1</td>\n",
       "      <td>0</td>\n",
       "      <td>0</td>\n",
       "      <td>0</td>\n",
       "      <td>0</td>\n",
       "    </tr>\n",
       "    <tr>\n",
       "      <th>4</th>\n",
       "      <td>7005</td>\n",
       "      <td>48</td>\n",
       "      <td>1</td>\n",
       "      <td>625236</td>\n",
       "      <td>839400</td>\n",
       "      <td>0</td>\n",
       "      <td>0</td>\n",
       "      <td>0</td>\n",
       "      <td>1</td>\n",
       "      <td>0</td>\n",
       "      <td>0</td>\n",
       "      <td>0</td>\n",
       "      <td>0</td>\n",
       "    </tr>\n",
       "  </tbody>\n",
       "</table>\n",
       "</div>"
      ],
      "text/plain": [
       "   loan_id  age  education  loan_amount  asset_cost  no_of_loans  \\\n",
       "0     7001   29          1       636936      768240            2   \n",
       "1     7002   28          1       548988      693060            3   \n",
       "2     7003   28          1       651756      936600            0   \n",
       "3     7004   45          2       614676      744840            4   \n",
       "4     7005   48          1       625236      839400            0   \n",
       "\n",
       "   no_of_curr_loans  last_delinq_none  proof_submitted_Aadhar  \\\n",
       "0                 2                 0                       1   \n",
       "1                 3                 0                       1   \n",
       "2                 0                 0                       1   \n",
       "3                 3                 0                       1   \n",
       "4                 0                 0                       1   \n",
       "\n",
       "   proof_submitted_Driving  proof_submitted_PAN  proof_submitted_Passport  \\\n",
       "0                        0                    0                         0   \n",
       "1                        0                    0                         0   \n",
       "2                        0                    0                         0   \n",
       "3                        0                    0                         0   \n",
       "4                        0                    0                         0   \n",
       "\n",
       "   proof_submitted_VoterID  \n",
       "0                        0  \n",
       "1                        0  \n",
       "2                        0  \n",
       "3                        0  \n",
       "4                        0  "
      ]
     },
     "execution_count": 37,
     "metadata": {},
     "output_type": "execute_result"
    }
   ],
   "source": [
    "final_test = testing \n",
    "final_test.head()"
   ]
  },
  {
   "cell_type": "code",
   "execution_count": 38,
   "id": "055e1a54",
   "metadata": {},
   "outputs": [
    {
     "data": {
      "text/plain": [
       "0    4200\n",
       "1    2800\n",
       "Name: loan_default, dtype: int64"
      ]
     },
     "execution_count": 38,
     "metadata": {},
     "output_type": "execute_result"
    }
   ],
   "source": [
    "loan_default= data_train['loan_default'].value_counts()\n",
    "loan_default"
   ]
  },
  {
   "cell_type": "markdown",
   "id": "949fbc1e",
   "metadata": {},
   "source": [
    "**What % of defaulter and non defaulter are present ?**"
   ]
  },
  {
   "cell_type": "code",
   "execution_count": 39,
   "id": "58021161",
   "metadata": {},
   "outputs": [
    {
     "data": {
      "image/png": "[encoded data removed]",
      "text/plain": [
       "<Figure size 432x288 with 1 Axes>"
      ]
     },
     "metadata": {},
     "output_type": "display_data"
    }
   ],
   "source": [
    "plt.pie(x=loan_default,labels=['Non-Defaulter','Defaulter'],explode = [0.05,0.05],autopct= '%3.1f%%')\n",
    "plt.show()"
   ]
  },
  {
   "cell_type": "code",
   "execution_count": 40,
   "id": "a978e69c",
   "metadata": {},
   "outputs": [
    {
     "data": {
      "image/png": "[encoded data removed]",
      "text/plain": [
       "<Figure size 1440x504 with 2 Axes>"
      ]
     },
     "metadata": {
      "needs_background": "light"
     },
     "output_type": "display_data"
    }
   ],
   "source": [
    "defaulter_age = data_train['age'][data_train['loan_default']== 1]\n",
    "non_defaulter_age = data_train['age'][data_train['loan_default']== 0]\n",
    "fig, (ax1, ax2) = plt.subplots(nrows = 2, ncols = 1, sharex = True, figsize = (20, 7))\n",
    "sns.distplot(a = non_defaulter_age, bins = 50, ax = ax1, color = 'red')\n",
    "ax1.set_title(label = 'Distribution of People who did not default loan', size = 14)\n",
    "ax1.set_xlabel(xlabel = '')\n",
    "sns.distplot(a = defaulter_age, bins = 50, ax = ax2, color = 'green')\n",
    "ax2.set_title(label = 'Distribution of People who defaulted the Loan', size = 14)\n",
    "plt.show()"
   ]
  },
  {
   "cell_type": "code",
   "execution_count": 41,
   "id": "2a496298",
   "metadata": {},
   "outputs": [
    {
     "data": {
      "text/plain": [
       "0     4220\n",
       "2     1225\n",
       "3      651\n",
       "4      355\n",
       "5      222\n",
       "6      107\n",
       "7       76\n",
       "8       51\n",
       "9       26\n",
       "10      20\n",
       "11      18\n",
       "14       7\n",
       "13       6\n",
       "12       4\n",
       "15       3\n",
       "17       2\n",
       "18       2\n",
       "16       2\n",
       "33       1\n",
       "20       1\n",
       "27       1\n",
       "Name: no_of_curr_loans, dtype: int64"
      ]
     },
     "execution_count": 41,
     "metadata": {},
     "output_type": "execute_result"
    }
   ],
   "source": [
    "data_train['no_of_curr_loans'].value_counts()"
   ]
  },
  {
   "cell_type": "code",
   "execution_count": 42,
   "id": "8e7d1aea",
   "metadata": {},
   "outputs": [
    {
     "data": {
      "text/plain": [
       "<AxesSubplot:xlabel='proof_submitted', ylabel='loan_default'>"
      ]
     },
     "execution_count": 42,
     "metadata": {},
     "output_type": "execute_result"
    },
    {
     "data": {
      "image/png": "[encoded data removed]",
      "text/plain": [
       "<Figure size 432x288 with 1 Axes>"
      ]
     },
     "metadata": {
      "needs_background": "light"
     },
     "output_type": "display_data"
    }
   ],
   "source": [
    "temp = data_train.groupby(by='proof_submitted').mean()\n",
    "sns.barplot(data=temp,x=temp.index,y='loan_default')"
   ]
  },
  {
   "cell_type": "code",
   "execution_count": 78,
   "id": "d13af251",
   "metadata": {},
   "outputs": [
    {
     "data": {
      "text/plain": [
       "Aadhar      5931\n",
       "VoterID      707\n",
       "PAN          235\n",
       "Driving      114\n",
       "Passport      13\n",
       "Name: proof_submitted, dtype: int64"
      ]
     },
     "execution_count": 78,
     "metadata": {},
     "output_type": "execute_result"
    }
   ],
   "source": [
    "data_train['proof_submitted'].value_counts()"
   ]
  },
  {
   "cell_type": "markdown",
   "id": "f1d977ad",
   "metadata": {},
   "source": [
    "The people who submitted their passport as their proof are less likely to default on their payments. And also people who have given voter id or driving license also pose a higher risk of defaulting on their payments."
   ]
  },
  {
   "cell_type": "code",
   "execution_count": 43,
   "id": "c6da5c59",
   "metadata": {},
   "outputs": [
    {
     "data": {
      "image/png": "[encoded data removed]",
      "text/plain": [
       "<Figure size 432x288 with 1 Axes>"
      ]
     },
     "metadata": {
      "needs_background": "light"
     },
     "output_type": "display_data"
    }
   ],
   "source": [
    "temp1 = temp.copy()\n",
    "temp1['asset_cost_cat'] = pd.qcut(temp1.asset_cost, 8).astype('str')\n",
    "temp['asset_cost_cat'] = pd.qcut(temp.asset_cost, 8).astype('str')\n",
    "temp1 = temp1.groupby(by = 'asset_cost_cat').mean().reset_index().sort_values(by='asset_cost_cat')\n",
    "sns.barplot(data = temp1,y = 'asset_cost_cat',x='loan_default');\n"
   ]
  },
  {
   "cell_type": "code",
   "execution_count": 44,
   "id": "c56ddb9b",
   "metadata": {},
   "outputs": [
    {
     "data": {
      "text/plain": [
       "<AxesSubplot:xlabel='no_of_curr_loans', ylabel='loan_default'>"
      ]
     },
     "execution_count": 44,
     "metadata": {},
     "output_type": "execute_result"
    },
    {
     "data": {
      "image/png": "[encoded data removed]",
      "text/plain": [
       "<Figure size 432x288 with 1 Axes>"
      ]
     },
     "metadata": {
      "needs_background": "light"
     },
     "output_type": "display_data"
    }
   ],
   "source": [
    "temp = data_train.groupby(by='no_of_curr_loans').mean()\n",
    "sns.barplot(data=temp,x=temp.index,y='loan_default')"
   ]
  },
  {
   "cell_type": "code",
   "execution_count": 45,
   "id": "632d2364",
   "metadata": {},
   "outputs": [
    {
     "data": {
      "image/png": "[encoded data removed]",
      "text/plain": [
       "<Figure size 432x288 with 1 Axes>"
      ]
     },
     "metadata": {
      "needs_background": "light"
     },
     "output_type": "display_data"
    }
   ],
   "source": [
    "sns.barplot(data =data_train,x = 'last_delinq_none',y = 'loan_default');"
   ]
  },
  {
   "cell_type": "markdown",
   "id": "8acc1703",
   "metadata": {},
   "source": [
    "The above graph shows that people who have history of defaulting on their payments tend to default more when compared to their counterparts."
   ]
  },
  {
   "cell_type": "code",
   "execution_count": 46,
   "id": "718e72af",
   "metadata": {},
   "outputs": [
    {
     "data": {
      "text/plain": [
       "<seaborn.axisgrid.FacetGrid at 0x233bd6c3c10>"
      ]
     },
     "execution_count": 46,
     "metadata": {},
     "output_type": "execute_result"
    },
    {
     "data": {
      "image/png": "[encoded data removed]",
      "text/plain": [
       "<Figure size 429.75x360 with 1 Axes>"
      ]
     },
     "metadata": {
      "needs_background": "light"
     },
     "output_type": "display_data"
    }
   ],
   "source": [
    "sns.lmplot(data=data_train,x='loan_amount',y='asset_cost',hue='loan_default')"
   ]
  },
  {
   "cell_type": "code",
   "execution_count": 47,
   "id": "a19bc7bb",
   "metadata": {},
   "outputs": [
    {
     "data": {
      "text/html": [
       "<div>\n",
       "<style scoped>\n",
       "    .dataframe tbody tr th:only-of-type {\n",
       "        vertical-align: middle;\n",
       "    }\n",
       "\n",
       "    .dataframe tbody tr th {\n",
       "        vertical-align: top;\n",
       "    }\n",
       "\n",
       "    .dataframe thead th {\n",
       "        text-align: right;\n",
       "    }\n",
       "</style>\n",
       "<table border=\"1\" class=\"dataframe\">\n",
       "  <thead>\n",
       "    <tr style=\"text-align: right;\">\n",
       "      <th></th>\n",
       "      <th>df</th>\n",
       "      <th>sum_sq</th>\n",
       "      <th>mean_sq</th>\n",
       "      <th>F</th>\n",
       "      <th>PR(&gt;F)</th>\n",
       "    </tr>\n",
       "  </thead>\n",
       "  <tbody>\n",
       "    <tr>\n",
       "      <th>C(proof_submitted)</th>\n",
       "      <td>4.00000</td>\n",
       "      <td>6.05761</td>\n",
       "      <td>1.51440</td>\n",
       "      <td>6.32843</td>\n",
       "      <td>0.00004</td>\n",
       "    </tr>\n",
       "    <tr>\n",
       "      <th>C(last_delinq_none)</th>\n",
       "      <td>1.00000</td>\n",
       "      <td>0.38503</td>\n",
       "      <td>0.38503</td>\n",
       "      <td>1.60896</td>\n",
       "      <td>0.20468</td>\n",
       "    </tr>\n",
       "    <tr>\n",
       "      <th>C(proof_submitted):C(last_delinq_none)</th>\n",
       "      <td>4.00000</td>\n",
       "      <td>0.74844</td>\n",
       "      <td>0.18711</td>\n",
       "      <td>0.78190</td>\n",
       "      <td>0.53675</td>\n",
       "    </tr>\n",
       "    <tr>\n",
       "      <th>Residual</th>\n",
       "      <td>6991.00000</td>\n",
       "      <td>1672.95559</td>\n",
       "      <td>0.23930</td>\n",
       "      <td>NaN</td>\n",
       "      <td>NaN</td>\n",
       "    </tr>\n",
       "  </tbody>\n",
       "</table>\n",
       "</div>"
      ],
      "text/plain": [
       "                                               df     sum_sq  mean_sq       F  \\\n",
       "C(proof_submitted)                        4.00000    6.05761  1.51440 6.32843   \n",
       "C(last_delinq_none)                       1.00000    0.38503  0.38503 1.60896   \n",
       "C(proof_submitted):C(last_delinq_none)    4.00000    0.74844  0.18711 0.78190   \n",
       "Residual                               6991.00000 1672.95559  0.23930     NaN   \n",
       "\n",
       "                                        PR(>F)  \n",
       "C(proof_submitted)                     0.00004  \n",
       "C(last_delinq_none)                    0.20468  \n",
       "C(proof_submitted):C(last_delinq_none) 0.53675  \n",
       "Residual                                   NaN  "
      ]
     },
     "execution_count": 47,
     "metadata": {},
     "output_type": "execute_result"
    }
   ],
   "source": [
    "from statsmodels.formula.api import ols\n",
    "import statsmodels.api as sm\n",
    "model = ols(\n",
    "    'loan_default ~ C(proof_submitted) + C(last_delinq_none) +\\\n",
    "    C(proof_submitted):C(last_delinq_none)', data=data_train).fit()\n",
    "sm.stats.anova_lm(model)"
   ]
  },
  {
   "cell_type": "markdown",
   "id": "2a027435",
   "metadata": {},
   "source": [
    "The ANOVA test shows us that the **last_delinq_none** has more effect on the target variable and the combined effect of both the categorical variables are affecting the result of the target variable."
   ]
  },
  {
   "cell_type": "code",
   "execution_count": 48,
   "id": "76833ee3",
   "metadata": {},
   "outputs": [
    {
     "data": {
      "text/plain": [
       "Text(0.5, 1.0, 'Correlation between features')"
      ]
     },
     "execution_count": 48,
     "metadata": {},
     "output_type": "execute_result"
    },
    {
     "data": {
      "image/png": "[encoded data removed]",
      "text/plain": [
       "<Figure size 720x720 with 2 Axes>"
      ]
     },
     "metadata": {
      "needs_background": "light"
     },
     "output_type": "display_data"
    }
   ],
   "source": [
    "plt.figure(figsize=(10,10))\n",
    "sns.heatmap(data_train.corr(), annot = True)\n",
    "plt.title('Correlation between features')"
   ]
  },
  {
   "cell_type": "markdown",
   "id": "7f3cae70",
   "metadata": {},
   "source": [
    "**Observation:** \n",
    "\n",
    "- __Age ,no_of_loans and n0_of_curr_loans are negatively corelated with loan_default.__\n",
    "- __asset_cost and last_declinq_none  are positively coorelated with loan_default.__\n"
   ]
  },
  {
   "cell_type": "markdown",
   "id": "487680bc",
   "metadata": {},
   "source": [
    "**Conclusion**\n",
    "\n",
    "- 40% of the people who took loans from MyHom has defaulted in their payment.\n",
    "- Younger people are more likely to default on their loans although the difference isn't wide.\n",
    "- The people who submitted their passport as their proof are less likely to default on their payments.\n",
    "- people who have given voter id or driving license also pose a higher risk of defaulting on their payments. \n",
    "- Higher the number of current loans the people have, more is the risk of default.\n",
    "- People with history of default are more likely to default "
   ]
  },
  {
   "cell_type": "code",
   "execution_count": 49,
   "id": "da74eab7",
   "metadata": {},
   "outputs": [
    {
     "data": {
      "text/html": [
       "<div>\n",
       "<style scoped>\n",
       "    .dataframe tbody tr th:only-of-type {\n",
       "        vertical-align: middle;\n",
       "    }\n",
       "\n",
       "    .dataframe tbody tr th {\n",
       "        vertical-align: top;\n",
       "    }\n",
       "\n",
       "    .dataframe thead th {\n",
       "        text-align: right;\n",
       "    }\n",
       "</style>\n",
       "<table border=\"1\" class=\"dataframe\">\n",
       "  <thead>\n",
       "    <tr style=\"text-align: right;\">\n",
       "      <th></th>\n",
       "      <th>loan_id</th>\n",
       "      <th>age</th>\n",
       "      <th>education</th>\n",
       "      <th>proof_submitted</th>\n",
       "      <th>loan_amount</th>\n",
       "      <th>asset_cost</th>\n",
       "      <th>no_of_loans</th>\n",
       "      <th>no_of_curr_loans</th>\n",
       "      <th>last_delinq_none</th>\n",
       "      <th>loan_default</th>\n",
       "    </tr>\n",
       "  </thead>\n",
       "  <tbody>\n",
       "    <tr>\n",
       "      <th>727</th>\n",
       "      <td>728</td>\n",
       "      <td>33</td>\n",
       "      <td>1</td>\n",
       "      <td>Aadhar</td>\n",
       "      <td>666708</td>\n",
       "      <td>825948</td>\n",
       "      <td>2</td>\n",
       "      <td>2</td>\n",
       "      <td>0</td>\n",
       "      <td>1</td>\n",
       "    </tr>\n",
       "  </tbody>\n",
       "</table>\n",
       "</div>"
      ],
      "text/plain": [
       "     loan_id  age  education proof_submitted  loan_amount  asset_cost  \\\n",
       "727      728   33          1          Aadhar       666708      825948   \n",
       "\n",
       "     no_of_loans  no_of_curr_loans  last_delinq_none  loan_default  \n",
       "727            2                 2                 0             1  "
      ]
     },
     "execution_count": 49,
     "metadata": {},
     "output_type": "execute_result"
    }
   ],
   "source": [
    "data_train.sample()"
   ]
  },
  {
   "cell_type": "code",
   "execution_count": 50,
   "id": "73ebbca8",
   "metadata": {},
   "outputs": [
    {
     "data": {
      "text/plain": [
       "loan_id              int64\n",
       "age                  int64\n",
       "education            int32\n",
       "proof_submitted     object\n",
       "loan_amount          int64\n",
       "asset_cost           int64\n",
       "no_of_loans          int64\n",
       "no_of_curr_loans     int64\n",
       "last_delinq_none     int64\n",
       "loan_default         int64\n",
       "dtype: object"
      ]
     },
     "execution_count": 50,
     "metadata": {},
     "output_type": "execute_result"
    }
   ],
   "source": [
    "data_train.dtypes"
   ]
  },
  {
   "cell_type": "markdown",
   "id": "e1772278",
   "metadata": {},
   "source": [
    "### **Encoding Categorical Features**"
   ]
  },
  {
   "cell_type": "code",
   "execution_count": 65,
   "id": "abcc930a",
   "metadata": {},
   "outputs": [],
   "source": [
    "final_train = pd.get_dummies(data_train)"
   ]
  },
  {
   "cell_type": "code",
   "execution_count": 66,
   "id": "ab8323ca",
   "metadata": {},
   "outputs": [
    {
     "data": {
      "text/html": [
       "<div>\n",
       "<style scoped>\n",
       "    .dataframe tbody tr th:only-of-type {\n",
       "        vertical-align: middle;\n",
       "    }\n",
       "\n",
       "    .dataframe tbody tr th {\n",
       "        vertical-align: top;\n",
       "    }\n",
       "\n",
       "    .dataframe thead th {\n",
       "        text-align: right;\n",
       "    }\n",
       "</style>\n",
       "<table border=\"1\" class=\"dataframe\">\n",
       "  <thead>\n",
       "    <tr style=\"text-align: right;\">\n",
       "      <th></th>\n",
       "      <th>loan_id</th>\n",
       "      <th>age</th>\n",
       "      <th>education</th>\n",
       "      <th>loan_amount</th>\n",
       "      <th>asset_cost</th>\n",
       "      <th>no_of_loans</th>\n",
       "      <th>no_of_curr_loans</th>\n",
       "      <th>last_delinq_none</th>\n",
       "      <th>loan_default</th>\n",
       "      <th>proof_submitted_Aadhar</th>\n",
       "      <th>proof_submitted_Driving</th>\n",
       "      <th>proof_submitted_PAN</th>\n",
       "      <th>proof_submitted_Passport</th>\n",
       "      <th>proof_submitted_VoterID</th>\n",
       "    </tr>\n",
       "  </thead>\n",
       "  <tbody>\n",
       "    <tr>\n",
       "      <th>0</th>\n",
       "      <td>1</td>\n",
       "      <td>27</td>\n",
       "      <td>1</td>\n",
       "      <td>504264</td>\n",
       "      <td>820920</td>\n",
       "      <td>2</td>\n",
       "      <td>2</td>\n",
       "      <td>0</td>\n",
       "      <td>0</td>\n",
       "      <td>1</td>\n",
       "      <td>0</td>\n",
       "      <td>0</td>\n",
       "      <td>0</td>\n",
       "      <td>0</td>\n",
       "    </tr>\n",
       "    <tr>\n",
       "      <th>1</th>\n",
       "      <td>2</td>\n",
       "      <td>48</td>\n",
       "      <td>1</td>\n",
       "      <td>728556</td>\n",
       "      <td>831444</td>\n",
       "      <td>6</td>\n",
       "      <td>2</td>\n",
       "      <td>0</td>\n",
       "      <td>0</td>\n",
       "      <td>1</td>\n",
       "      <td>0</td>\n",
       "      <td>0</td>\n",
       "      <td>0</td>\n",
       "      <td>0</td>\n",
       "    </tr>\n",
       "    <tr>\n",
       "      <th>2</th>\n",
       "      <td>3</td>\n",
       "      <td>30</td>\n",
       "      <td>2</td>\n",
       "      <td>642936</td>\n",
       "      <td>826092</td>\n",
       "      <td>0</td>\n",
       "      <td>0</td>\n",
       "      <td>0</td>\n",
       "      <td>1</td>\n",
       "      <td>0</td>\n",
       "      <td>0</td>\n",
       "      <td>0</td>\n",
       "      <td>0</td>\n",
       "      <td>1</td>\n",
       "    </tr>\n",
       "    <tr>\n",
       "      <th>3</th>\n",
       "      <td>4</td>\n",
       "      <td>28</td>\n",
       "      <td>1</td>\n",
       "      <td>746556</td>\n",
       "      <td>930924</td>\n",
       "      <td>0</td>\n",
       "      <td>0</td>\n",
       "      <td>0</td>\n",
       "      <td>0</td>\n",
       "      <td>1</td>\n",
       "      <td>0</td>\n",
       "      <td>0</td>\n",
       "      <td>0</td>\n",
       "      <td>0</td>\n",
       "    </tr>\n",
       "    <tr>\n",
       "      <th>4</th>\n",
       "      <td>5</td>\n",
       "      <td>29</td>\n",
       "      <td>1</td>\n",
       "      <td>1139880</td>\n",
       "      <td>1902000</td>\n",
       "      <td>0</td>\n",
       "      <td>0</td>\n",
       "      <td>0</td>\n",
       "      <td>0</td>\n",
       "      <td>1</td>\n",
       "      <td>0</td>\n",
       "      <td>0</td>\n",
       "      <td>0</td>\n",
       "      <td>0</td>\n",
       "    </tr>\n",
       "  </tbody>\n",
       "</table>\n",
       "</div>"
      ],
      "text/plain": [
       "   loan_id  age  education  loan_amount  asset_cost  no_of_loans  \\\n",
       "0        1   27          1       504264      820920            2   \n",
       "1        2   48          1       728556      831444            6   \n",
       "2        3   30          2       642936      826092            0   \n",
       "3        4   28          1       746556      930924            0   \n",
       "4        5   29          1      1139880     1902000            0   \n",
       "\n",
       "   no_of_curr_loans  last_delinq_none  loan_default  proof_submitted_Aadhar  \\\n",
       "0                 2                 0             0                       1   \n",
       "1                 2                 0             0                       1   \n",
       "2                 0                 0             1                       0   \n",
       "3                 0                 0             0                       1   \n",
       "4                 0                 0             0                       1   \n",
       "\n",
       "   proof_submitted_Driving  proof_submitted_PAN  proof_submitted_Passport  \\\n",
       "0                        0                    0                         0   \n",
       "1                        0                    0                         0   \n",
       "2                        0                    0                         0   \n",
       "3                        0                    0                         0   \n",
       "4                        0                    0                         0   \n",
       "\n",
       "   proof_submitted_VoterID  \n",
       "0                        0  \n",
       "1                        0  \n",
       "2                        1  \n",
       "3                        0  \n",
       "4                        0  "
      ]
     },
     "execution_count": 66,
     "metadata": {},
     "output_type": "execute_result"
    }
   ],
   "source": [
    "final_train.head()"
   ]
  },
  {
   "cell_type": "markdown",
   "id": "265ca281",
   "metadata": {},
   "source": [
    "### **Data Preparation**\n",
    "\n",
    "- Now we will **split** our **data** in **training** and **testing** part for further development."
   ]
  },
  {
   "cell_type": "code",
   "execution_count": 83,
   "id": "372d3098",
   "metadata": {},
   "outputs": [],
   "source": [
    "x= final_train.drop('loan_default' , axis =1)\n",
    "y=final_train['loan_default']"
   ]
  },
  {
   "cell_type": "markdown",
   "id": "27e6cccb",
   "metadata": {},
   "source": [
    "# **Model Development & Evaluation**"
   ]
  },
  {
   "cell_type": "markdown",
   "id": "f897a395",
   "metadata": {},
   "source": [
    "### Model evaluation based on simple train/test split using train_test_split() function"
   ]
  },
  {
   "cell_type": "code",
   "execution_count": 84,
   "id": "fcf88c4a",
   "metadata": {},
   "outputs": [
    {
     "data": {
      "text/plain": [
       "LogisticRegression()"
      ]
     },
     "execution_count": 84,
     "metadata": {},
     "output_type": "execute_result"
    }
   ],
   "source": [
    "logreg = LogisticRegression()\n",
    "logreg.fit(x_train,y_train)"
   ]
  },
  {
   "cell_type": "code",
   "execution_count": 85,
   "id": "44d44688",
   "metadata": {},
   "outputs": [
    {
     "name": "stdout",
     "output_type": "stream",
     "text": [
      "Selected features: ['loan_id', 'age', 'education', 'loan_amount', 'asset_cost', 'no_of_loans', 'no_of_curr_loans', 'last_delinq_none', 'proof_submitted_Aadhar', 'proof_submitted_Driving', 'proof_submitted_PAN', 'proof_submitted_Passport', 'proof_submitted_VoterID']\n"
     ]
    }
   ],
   "source": [
    "rfe = RFE(logreg, 13)                     ## create the RFE model and select 13 attributes\n",
    "rfe = rfe.fit(x, y)\n",
    "print('Selected features: %s' % list(x.columns[rfe.support_]))"
   ]
  },
  {
   "cell_type": "code",
   "execution_count": 138,
   "id": "cc68939a",
   "metadata": {},
   "outputs": [
    {
     "name": "stdout",
     "output_type": "stream",
     "text": [
      "Training Data Shape: (5250, 13) (5250,)\n",
      "Validation Data Shape: (1750, 13) (1750,)\n"
     ]
    }
   ],
   "source": [
    "selected_features = ['loan_id', 'age', 'education', 'loan_amount', 'asset_cost', 'no_of_loans', 'no_of_curr_loans', 'last_delinq_none', 'proof_submitted_Aadhar', 'proof_submitted_Driving', 'proof_submitted_PAN', 'proof_submitted_Passport', 'proof_submitted_VoterID']\n",
    "\n",
    "x= final_train[selected_features]\n",
    "y = final_train['loan_default']\n",
    "\n",
    "logreg = LogisticRegression()\n",
    "logreg.fit(x_train,y_train)\n",
    "\n",
    "x_train,x_test ,y_train,y_test = train_test_split(x,y,test_size=0.25,random_state = 40 , stratify = y)\n",
    "print('Training Data Shape:', x_train.shape, y_train.shape)\n",
    "print('Validation Data Shape:', x_test.shape, y_test.shape)"
   ]
  },
  {
   "cell_type": "code",
   "execution_count": 139,
   "id": "a41c9d48",
   "metadata": {},
   "outputs": [
    {
     "name": "stdout",
     "output_type": "stream",
     "text": [
      "Train/Test split results:\n",
      "LogisticRegression accuracy is 0.599\n",
      "LogisticRegression F1 score :  0.4497320471596999\n",
      "LogisticRegression precision score :  0.35986277873070327\n",
      "LogisticRegression Recall Score :  0.5994285714285714\n"
     ]
    }
   ],
   "source": [
    "y_pred = logreg.predict(x_test)\n",
    "print('Train/Test split results:')\n",
    "print(logreg.__class__.__name__+\" accuracy is %2.3f\" % accuracy_score(y_test, y_pred))\n",
    "print(logreg.__class__.__name__+' F1 score : ',f1_score(y_test, y_pred, average='weighted'))\n",
    "print(logreg.__class__.__name__+' precision score : ',precision_score(y_test, y_pred, average='weighted'))\n",
    "print(logreg.__class__.__name__+' Recall Score : ', recall_score(y_test , y_pred, average='weighted'))"
   ]
  },
  {
   "cell_type": "code",
   "execution_count": 140,
   "id": "e4d2c0a7",
   "metadata": {},
   "outputs": [
    {
     "data": {
      "text/plain": [
       "array([[1049,    1],\n",
       "       [ 700,    0]], dtype=int64)"
      ]
     },
     "execution_count": 140,
     "metadata": {},
     "output_type": "execute_result"
    }
   ],
   "source": [
    "confusion_matrix(y_test,logreg.predict(x_test))"
   ]
  },
  {
   "cell_type": "markdown",
   "id": "995d7522",
   "metadata": {},
   "source": [
    "### Model evaluation based on Random Forest Classifier ( Baseline Model )"
   ]
  },
  {
   "cell_type": "code",
   "execution_count": 142,
   "id": "02a15e74",
   "metadata": {},
   "outputs": [
    {
     "data": {
      "text/plain": [
       "RandomForestClassifier(random_state=0)"
      ]
     },
     "execution_count": 142,
     "metadata": {},
     "output_type": "execute_result"
    }
   ],
   "source": [
    "model = RandomForestClassifier(random_state = 0)\n",
    "model.fit(x_train, y_train)"
   ]
  },
  {
   "cell_type": "code",
   "execution_count": 143,
   "id": "8a89e485",
   "metadata": {},
   "outputs": [],
   "source": [
    "y_pred_test = model.predict(x_test)"
   ]
  },
  {
   "cell_type": "code",
   "execution_count": 144,
   "id": "aca047e1",
   "metadata": {},
   "outputs": [
    {
     "name": "stdout",
     "output_type": "stream",
     "text": [
      "Accuracy score for test data is: 0.5737142857142857\n",
      "F1 score :  0.332737030411449\n",
      "precision score :  0.4449760765550239\n",
      "Recall Score :  0.26571428571428574\n"
     ]
    }
   ],
   "source": [
    "print('Accuracy score for test data is:', accuracy_score(y_test,y_pred_test))\n",
    "print('F1 score : ',f1_score(y_test, y_pred_test))\n",
    "print('precision score : ',precision_score(y_test, y_pred_test))\n",
    "print('Recall Score : ', recall_score(y_test , y_pred_test))"
   ]
  },
  {
   "cell_type": "code",
   "execution_count": 162,
   "id": "229498fc",
   "metadata": {},
   "outputs": [
    {
     "name": "stdout",
     "output_type": "stream",
     "text": [
      "              precision    recall  f1-score   support\n",
      "\n",
      "           0       0.61      0.78      0.69      1050\n",
      "           1       0.44      0.27      0.33       700\n",
      "\n",
      "    accuracy                           0.57      1750\n",
      "   macro avg       0.53      0.52      0.51      1750\n",
      "weighted avg       0.55      0.57      0.55      1750\n",
      "\n"
     ]
    }
   ],
   "source": [
    "from sklearn.metrics import classification_report\n",
    "report = classification_report(y_test,model.predict(x_test))\n",
    "print(report)"
   ]
  },
  {
   "cell_type": "markdown",
   "id": "b3418c5b",
   "metadata": {},
   "source": [
    "###  Random Forest with RandomizedSearchCV ( Final Model )"
   ]
  },
  {
   "cell_type": "code",
   "execution_count": 149,
   "id": "a182db2d",
   "metadata": {},
   "outputs": [
    {
     "data": {
      "text/plain": [
       "RandomizedSearchCV(estimator=RandomForestClassifier(class_weight='balanced',\n",
       "                                                    n_jobs=-1,\n",
       "                                                    random_state=42),\n",
       "                   n_jobs=-1,\n",
       "                   param_distributions={'max_depth': [5, 10, 20, 30],\n",
       "                                        'max_leaf_nodes': [16, 32, 64, 128],\n",
       "                                        'min_samples_leaf': [10, 20, 30, 40, 60,\n",
       "                                                             80]},\n",
       "                   random_state=42, scoring='roc_auc')"
      ]
     },
     "execution_count": 149,
     "metadata": {},
     "output_type": "execute_result"
    }
   ],
   "source": [
    "params = {\n",
    "    'max_depth':[5,10,20,30],\n",
    "    'max_leaf_nodes':[16,32,64,128],\n",
    "    'min_samples_leaf':[10,20,30,40,60,80]\n",
    "}\n",
    "final_model = RandomizedSearchCV(estimator=RandomForestClassifier(n_jobs=-1,random_state=42,\n",
    "                                                                 class_weight='balanced'),\n",
    "                                param_distributions=params,\n",
    "                                 n_jobs = -1,\n",
    "                                 random_state=42,\n",
    "                                 scoring='roc_auc'\n",
    "                                )\n",
    "final_model.fit(x_train,y_train)"
   ]
  },
  {
   "cell_type": "code",
   "execution_count": 150,
   "id": "c0fd24ad",
   "metadata": {},
   "outputs": [
    {
     "name": "stdout",
     "output_type": "stream",
     "text": [
      "              precision    recall  f1-score   support\n",
      "\n",
      "           0       0.67      0.56      0.61      1050\n",
      "           1       0.47      0.59      0.52       700\n",
      "\n",
      "    accuracy                           0.57      1750\n",
      "   macro avg       0.57      0.58      0.57      1750\n",
      "weighted avg       0.59      0.57      0.58      1750\n",
      "\n"
     ]
    }
   ],
   "source": [
    "train_preds = final_model.predict(x_test)\n",
    "print(classification_report(y_test,final_model.predict(x_test)))"
   ]
  },
  {
   "cell_type": "code",
   "execution_count": 152,
   "id": "ee21cdf2",
   "metadata": {},
   "outputs": [],
   "source": [
    "y_pred_test1 = final_model.predict(x_test)"
   ]
  },
  {
   "cell_type": "code",
   "execution_count": 153,
   "id": "46640cd6",
   "metadata": {},
   "outputs": [
    {
     "name": "stdout",
     "output_type": "stream",
     "text": [
      "Accuracy score for test data is: 0.5725714285714286\n",
      "F1 score :  0.5247776365946633\n",
      "precision score :  0.47254004576659037\n",
      "Recall Score :  0.59\n"
     ]
    }
   ],
   "source": [
    "print('Accuracy score for test data is:', accuracy_score(y_test,y_pred_test1))\n",
    "print('F1 score : ',f1_score(y_test, y_pred_test1))\n",
    "print('precision score : ',precision_score(y_test, y_pred_test1))\n",
    "print('Recall Score : ', recall_score(y_test , y_pred_test1))"
   ]
  },
  {
   "cell_type": "code",
   "execution_count": 155,
   "id": "127b7946",
   "metadata": {},
   "outputs": [],
   "source": [
    "f1_dict = {'Baseline Model':f1_score(y_test, y_pred_test), \n",
    "                  'Final Model':f1_score(y_test, y_pred_test1)}          # Predicting best model on basis of f1 score           "
   ]
  },
  {
   "cell_type": "code",
   "execution_count": 163,
   "id": "6f9cf188",
   "metadata": {},
   "outputs": [
    {
     "data": {
      "text/html": [
       "<div>\n",
       "<style scoped>\n",
       "    .dataframe tbody tr th:only-of-type {\n",
       "        vertical-align: middle;\n",
       "    }\n",
       "\n",
       "    .dataframe tbody tr th {\n",
       "        vertical-align: top;\n",
       "    }\n",
       "\n",
       "    .dataframe thead th {\n",
       "        text-align: right;\n",
       "    }\n",
       "</style>\n",
       "<table border=\"1\" class=\"dataframe\">\n",
       "  <thead>\n",
       "    <tr style=\"text-align: right;\">\n",
       "      <th></th>\n",
       "      <th>Baseline Model</th>\n",
       "      <th>Final Model</th>\n",
       "    </tr>\n",
       "  </thead>\n",
       "  <tbody>\n",
       "    <tr>\n",
       "      <th>F1 Scores</th>\n",
       "      <td>0.33274</td>\n",
       "      <td>0.52478</td>\n",
       "    </tr>\n",
       "  </tbody>\n",
       "</table>\n",
       "</div>"
      ],
      "text/plain": [
       "           Baseline Model  Final Model\n",
       "F1 Scores         0.33274      0.52478"
      ]
     },
     "execution_count": 163,
     "metadata": {},
     "output_type": "execute_result"
    }
   ],
   "source": [
    "f1 = pd.DataFrame(f1_dict, index=['F1 Scores'])\n",
    "f1"
   ]
  },
  {
   "cell_type": "code",
   "execution_count": 160,
   "id": "93db2746",
   "metadata": {},
   "outputs": [
    {
     "data": {
      "text/html": [
       "<div>\n",
       "<style scoped>\n",
       "    .dataframe tbody tr th:only-of-type {\n",
       "        vertical-align: middle;\n",
       "    }\n",
       "\n",
       "    .dataframe tbody tr th {\n",
       "        vertical-align: top;\n",
       "    }\n",
       "\n",
       "    .dataframe thead th {\n",
       "        text-align: right;\n",
       "    }\n",
       "</style>\n",
       "<table border=\"1\" class=\"dataframe\">\n",
       "  <thead>\n",
       "    <tr style=\"text-align: right;\">\n",
       "      <th></th>\n",
       "      <th>loan_id</th>\n",
       "      <th>loan_default</th>\n",
       "    </tr>\n",
       "  </thead>\n",
       "  <tbody>\n",
       "    <tr>\n",
       "      <th>2995</th>\n",
       "      <td>9996</td>\n",
       "      <td>0</td>\n",
       "    </tr>\n",
       "    <tr>\n",
       "      <th>2996</th>\n",
       "      <td>9997</td>\n",
       "      <td>1</td>\n",
       "    </tr>\n",
       "    <tr>\n",
       "      <th>2997</th>\n",
       "      <td>9998</td>\n",
       "      <td>0</td>\n",
       "    </tr>\n",
       "    <tr>\n",
       "      <th>2998</th>\n",
       "      <td>9999</td>\n",
       "      <td>1</td>\n",
       "    </tr>\n",
       "    <tr>\n",
       "      <th>2999</th>\n",
       "      <td>10000</td>\n",
       "      <td>0</td>\n",
       "    </tr>\n",
       "  </tbody>\n",
       "</table>\n",
       "</div>"
      ],
      "text/plain": [
       "      loan_id  loan_default\n",
       "2995     9996             0\n",
       "2996     9997             1\n",
       "2997     9998             0\n",
       "2998     9999             1\n",
       "2999    10000             0"
      ]
     },
     "execution_count": 160,
     "metadata": {},
     "output_type": "execute_result"
    }
   ],
   "source": [
    "final_test['loan_default'] = final_model.predict(final_test[Selected_features])\n",
    "final_test['loan_id'] = data_test['loan_id']\n",
    "\n",
    "sample = final_test[['loan_id','loan_default']]\n",
    "\n",
    "sample.to_csv(\"sample.csv\", index=False)\n",
    "\n",
    "sample.tail()"
   ]
  },
  {
   "cell_type": "code",
   "execution_count": 161,
   "id": "84c9bf25",
   "metadata": {},
   "outputs": [
    {
     "data": {
      "text/plain": [
       "(3000, 2)"
      ]
     },
     "execution_count": 161,
     "metadata": {},
     "output_type": "execute_result"
    }
   ],
   "source": [
    "sample.shape"
   ]
  }
 ],
 "metadata": {
  "kernelspec": {
   "display_name": "Python 3 (ipykernel)",
   "language": "python",
   "name": "python3"
  },
  "language_info": {
   "codemirror_mode": {
    "name": "ipython",
    "version": 3
   },
   "file_extension": ".py",
   "mimetype": "text/x-python",
   "name": "python",
   "nbconvert_exporter": "python",
   "pygments_lexer": "ipython3",
   "version": "3.9.7"
  }
 },
 "nbformat": 4,
 "nbformat_minor": 5
}
